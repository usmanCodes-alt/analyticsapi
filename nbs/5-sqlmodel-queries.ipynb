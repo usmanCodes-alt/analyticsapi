{
 "cells": [
  {
   "cell_type": "code",
   "execution_count": 1,
   "id": "e418b4c5",
   "metadata": {},
   "outputs": [],
   "source": [
    "import sys\n",
    "from pathlib import Path"
   ]
  },
  {
   "cell_type": "code",
   "execution_count": 4,
   "id": "ea39ad74",
   "metadata": {},
   "outputs": [],
   "source": [
    "src_path = Path('../src').resolve()\n",
    "\n",
    "sys.path.append(str(src_path))"
   ]
  },
  {
   "cell_type": "code",
   "execution_count": 24,
   "id": "a3e31c1d",
   "metadata": {},
   "outputs": [],
   "source": [
    "from sqlmodel import Session, select\n",
    "from api.db.session import engine\n",
    "from api.events.models import EventModel\n",
    "from timescaledb.hyperfunctions import time_bucket\n",
    "from sqlalchemy import func\n",
    "from pprint import pprint"
   ]
  },
  {
   "cell_type": "code",
   "execution_count": null,
   "id": "3041011f",
   "metadata": {},
   "outputs": [
    {
     "name": "stdout",
     "output_type": "stream",
     "text": [
      "SELECT eventmodel.id, eventmodel.time, eventmodel.page, eventmodel.description, eventmodel.updated_at \n",
      "FROM eventmodel ORDER BY eventmodel.id DESC\n",
      " LIMIT 10\n"
     ]
    }
   ],
   "source": [
    "with Session(engine) as session:\n",
    "    query = select(EventModel).order_by(EventModel.id.desc()).limit(10)\n",
    "    compiled_query = query.compile(compile_kwargs={'literal_binds': True})\n",
    "    print(compiled_query)\n",
    "    "
   ]
  },
  {
   "cell_type": "code",
   "execution_count": null,
   "id": "1910a7c6",
   "metadata": {},
   "outputs": [
    {
     "name": "stdout",
     "output_type": "stream",
     "text": [
      "[(datetime.datetime(2025, 4, 7, 21, 21, tzinfo=datetime.timezone.utc), '/about', 1),\n",
      " (datetime.datetime(2025, 4, 7, 21, 22, tzinfo=datetime.timezone.utc), '/about', 1015),\n",
      " (datetime.datetime(2025, 4, 7, 21, 23, tzinfo=datetime.timezone.utc), '/about', 959)]\n"
     ]
    }
   ],
   "source": [
    "with Session(engine) as session:\n",
    "    bucket = time_bucket('1 minute', EventModel.time)\n",
    "    pages = ['/about']\n",
    "    query = (\n",
    "        select(bucket,\n",
    "               EventModel.page,\n",
    "               func.count().label('event_count')\n",
    "        )\n",
    "        .where(\n",
    "            EventModel.page.in_(pages)\n",
    "        )\n",
    "        .group_by(bucket, EventModel.page)\n",
    "        .order_by(\n",
    "            bucket,\n",
    "            EventModel.page\n",
    "        )\n",
    "    )\n",
    "    compiled_query = query.compile(compile_kwargs={'literal_binds': True})\n",
    "    results = session.exec(query).fetchall()\n",
    "    pprint(results)"
   ]
  }
 ],
 "metadata": {
  "kernelspec": {
   "display_name": ".venv",
   "language": "python",
   "name": "python3"
  },
  "language_info": {
   "codemirror_mode": {
    "name": "ipython",
    "version": 3
   },
   "file_extension": ".py",
   "mimetype": "text/x-python",
   "name": "python",
   "nbconvert_exporter": "python",
   "pygments_lexer": "ipython3",
   "version": "3.12.0"
  }
 },
 "nbformat": 4,
 "nbformat_minor": 5
}
