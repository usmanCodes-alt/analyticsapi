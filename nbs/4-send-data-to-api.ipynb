{
 "cells": [
  {
   "cell_type": "markdown",
   "metadata": {},
   "source": [
    "POST Endpoint"
   ]
  },
  {
   "cell_type": "code",
   "execution_count": 2,
   "metadata": {},
   "outputs": [
    {
     "name": "stdout",
     "output_type": "stream",
     "text": [
      "http://localhost:8001/api/events/\n",
      "{'date': 'Mon, 07 Apr 2025 20:39:29 GMT', 'server': 'uvicorn', 'content-length': '89', 'content-type': 'application/json'}\n",
      "True\n",
      "{'page': '/test+', 'id': 2, 'created_at': '2025-04-07T20:39:29.546232', 'description': 'abc123'} <class 'dict'>\n"
     ]
    }
   ],
   "source": [
    "import json\n",
    "import requests\n",
    "path = '/api/events/'\n",
    "base_url = 'http://localhost:8001'\n",
    "endpoint = f'{base_url}{path}'\n",
    "print(endpoint)\n",
    "data = {'page': '/test+', 'description': 'abc123'}\n",
    "headers = {\n",
    "    'Content-Type': 'application/json'\n",
    "}\n",
    "response = requests.post(endpoint, data=json.dumps(data), headers=headers)\n",
    "print(response.headers)\n",
    "print(response.ok)\n",
    "if (response.ok):\n",
    "    data = response.json()\n",
    "    print(data, type(data))\n",
    "else:\n",
    "    print(response.text)"
   ]
  },
  {
   "cell_type": "markdown",
   "metadata": {},
   "source": [
    "PUT Endpoint"
   ]
  },
  {
   "cell_type": "code",
   "execution_count": 5,
   "metadata": {},
   "outputs": [
    {
     "name": "stdout",
     "output_type": "stream",
     "text": [
      "http://localhost:8001/api/events/\n",
      "{'date': 'Mon, 07 Apr 2025 20:28:58 GMT', 'server': 'uvicorn', 'content-length': '29', 'content-type': 'application/json'}\n",
      "False\n",
      "{\"detail\":\"Event not found!\"}\n"
     ]
    }
   ],
   "source": [
    "import json\n",
    "path = '/api/events/12'\n",
    "base_url = 'http://localhost:8001'\n",
    "put_endpoint = f'{base_url}{path}'\n",
    "print(endpoint)\n",
    "put_data = {'description': 'hello world!'}\n",
    "headers = {\n",
    "    'Content-Type': 'application/json'\n",
    "}\n",
    "response = requests.put(put_endpoint, data=json.dumps(put_data), headers=headers)\n",
    "print(response.headers)\n",
    "print(response.ok)\n",
    "if (response.ok):\n",
    "    data = response.json()\n",
    "    print(data, type(data))\n",
    "else:\n",
    "    print(response.text)"
   ]
  }
 ],
 "metadata": {
  "kernelspec": {
   "display_name": ".venv",
   "language": "python",
   "name": "python3"
  },
  "language_info": {
   "codemirror_mode": {
    "name": "ipython",
    "version": 3
   },
   "file_extension": ".py",
   "mimetype": "text/x-python",
   "name": "python",
   "nbconvert_exporter": "python",
   "pygments_lexer": "ipython3",
   "version": "3.12.0"
  }
 },
 "nbformat": 4,
 "nbformat_minor": 2
}
