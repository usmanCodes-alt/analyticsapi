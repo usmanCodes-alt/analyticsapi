{
 "cells": [
  {
   "cell_type": "markdown",
   "metadata": {},
   "source": [
    "POST Endpoint"
   ]
  },
  {
   "cell_type": "code",
   "execution_count": 1,
   "metadata": {},
   "outputs": [
    {
     "name": "stdout",
     "output_type": "stream",
     "text": [
      "http://localhost:8000/api/events/\n",
      "{'date': 'Sun, 06 Apr 2025 21:58:46 GMT', 'server': 'uvicorn', 'content-length': '49', 'content-type': 'application/json'}\n",
      "True\n",
      "{'id': 123, 'page': '/test+', 'description': 'abc123'} <class 'dict'>\n"
     ]
    }
   ],
   "source": [
    "import json\n",
    "import requests\n",
    "path = '/api/events/'\n",
    "base_url = 'http://localhost:8000'\n",
    "endpoint = f'{base_url}{path}'\n",
    "print(endpoint)\n",
    "data = {'page': '/test+', 'description': 'abc123'}\n",
    "headers = {\n",
    "    'Content-Type': 'application/json'\n",
    "}\n",
    "response = requests.post(endpoint, data=json.dumps(data), headers=headers)\n",
    "print(response.headers)\n",
    "print(response.ok)\n",
    "if (response.ok):\n",
    "    data = response.json()\n",
    "    print(data, type(data))\n",
    "else:\n",
    "    print(response.text)"
   ]
  },
  {
   "cell_type": "markdown",
   "metadata": {},
   "source": [
    "PUT Endpoint"
   ]
  },
  {
   "cell_type": "code",
   "execution_count": 2,
   "metadata": {},
   "outputs": [
    {
     "name": "stdout",
     "output_type": "stream",
     "text": [
      "http://localhost:8000/api/events/\n",
      "{'date': 'Sun, 06 Apr 2025 21:58:52 GMT', 'server': 'uvicorn', 'content-length': '49', 'content-type': 'application/json'}\n",
      "True\n",
      "{'id': 123, 'page': '', 'description': 'hello world!'} <class 'dict'>\n"
     ]
    }
   ],
   "source": [
    "import json\n",
    "path = '/api/events/12'\n",
    "base_url = 'http://localhost:8000'\n",
    "put_endpoint = f'{base_url}{path}'\n",
    "print(endpoint)\n",
    "put_data = {'description': 'hello world!'}\n",
    "headers = {\n",
    "    'Content-Type': 'application/json'\n",
    "}\n",
    "response = requests.put(put_endpoint, data=json.dumps(put_data), headers=headers)\n",
    "print(response.headers)\n",
    "print(response.ok)\n",
    "if (response.ok):\n",
    "    data = response.json()\n",
    "    print(data, type(data))\n",
    "else:\n",
    "    print(response.text)"
   ]
  }
 ],
 "metadata": {
  "kernelspec": {
   "display_name": ".venv",
   "language": "python",
   "name": "python3"
  },
  "language_info": {
   "codemirror_mode": {
    "name": "ipython",
    "version": 3
   },
   "file_extension": ".py",
   "mimetype": "text/x-python",
   "name": "python",
   "nbconvert_exporter": "python",
   "pygments_lexer": "ipython3",
   "version": "3.12.0"
  }
 },
 "nbformat": 4,
 "nbformat_minor": 2
}
