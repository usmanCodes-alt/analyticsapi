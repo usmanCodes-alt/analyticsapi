{
 "cells": [
  {
   "cell_type": "code",
   "execution_count": 4,
   "metadata": {},
   "outputs": [
    {
     "name": "stdout",
     "output_type": "stream",
     "text": [
      "http://localhost:8000/api/events/1\n"
     ]
    }
   ],
   "source": [
    "import requests\n",
    "path = '/api/events/1'\n",
    "base_url = 'http://localhost:8000'\n",
    "endpoint = f'{base_url}{path}'\n",
    "print(endpoint)"
   ]
  },
  {
   "cell_type": "code",
   "execution_count": 5,
   "metadata": {},
   "outputs": [
    {
     "name": "stdout",
     "output_type": "stream",
     "text": [
      "200\n",
      "{'id': 1, 'page': '/test+', 'description': 'abc123'} <class 'dict'>\n"
     ]
    }
   ],
   "source": [
    "response = requests.get(endpoint)\n",
    "print(response.status_code)\n",
    "if (response.ok):\n",
    "    data = response.json()\n",
    "    print(data, type(data))"
   ]
  }
 ],
 "metadata": {
  "kernelspec": {
   "display_name": ".venv",
   "language": "python",
   "name": "python3"
  },
  "language_info": {
   "codemirror_mode": {
    "name": "ipython",
    "version": 3
   },
   "file_extension": ".py",
   "mimetype": "text/x-python",
   "name": "python",
   "nbconvert_exporter": "python",
   "pygments_lexer": "ipython3",
   "version": "3.12.0"
  }
 },
 "nbformat": 4,
 "nbformat_minor": 2
}
