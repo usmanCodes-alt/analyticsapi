{
 "cells": [
  {
   "cell_type": "code",
   "execution_count": 1,
   "metadata": {},
   "outputs": [
    {
     "name": "stdout",
     "output_type": "stream",
     "text": [
      "http://localhost:8001/api/events/\n"
     ]
    }
   ],
   "source": [
    "import requests\n",
    "path = '/api/events/'\n",
    "base_url = 'http://localhost:8001'\n",
    "endpoint = f'{base_url}{path}'\n",
    "print(endpoint)"
   ]
  },
  {
   "cell_type": "code",
   "execution_count": 3,
   "metadata": {},
   "outputs": [
    {
     "name": "stdout",
     "output_type": "stream",
     "text": [
      "True\n",
      "{'count': 2,\n",
      " 'results': [{'created_at': '2025-04-07T20:39:29.546232',\n",
      "              'description': 'abc123',\n",
      "              'id': 2,\n",
      "              'page': '/test+'},\n",
      "             {'created_at': '2025-04-07T20:39:27.775489',\n",
      "              'description': 'abc123',\n",
      "              'id': 1,\n",
      "              'page': '/test+'}]}\n"
     ]
    }
   ],
   "source": [
    "from pprint import pprint\n",
    "response = requests.get(endpoint)\n",
    "print(response.ok)\n",
    "if (response.ok):\n",
    "    data = response.json()\n",
    "    pprint(data)"
   ]
  }
 ],
 "metadata": {
  "kernelspec": {
   "display_name": ".venv",
   "language": "python",
   "name": "python3"
  },
  "language_info": {
   "codemirror_mode": {
    "name": "ipython",
    "version": 3
   },
   "file_extension": ".py",
   "mimetype": "text/x-python",
   "name": "python",
   "nbconvert_exporter": "python",
   "pygments_lexer": "ipython3",
   "version": "3.12.0"
  }
 },
 "nbformat": 4,
 "nbformat_minor": 2
}
