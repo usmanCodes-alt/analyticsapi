{
 "cells": [
  {
   "cell_type": "code",
   "execution_count": 3,
   "metadata": {},
   "outputs": [
    {
     "name": "stdout",
     "output_type": "stream",
     "text": [
      "http://localhost:8000/api/events/\n"
     ]
    }
   ],
   "source": [
    "import requests\n",
    "path = '/api/events/'\n",
    "base_url = 'http://localhost:8000'\n",
    "endpoint = f'{base_url}{path}'\n",
    "print(endpoint)"
   ]
  },
  {
   "cell_type": "code",
   "execution_count": null,
   "metadata": {},
   "outputs": [
    {
     "name": "stdout",
     "output_type": "stream",
     "text": [
      "True\n",
      "[{'bucket': '2025-04-07T21:21:00Z', 'event_count': 1, 'page': '/about'},\n",
      " {'bucket': '2025-04-07T21:21:00Z', 'event_count': 1, 'page': '/contact'},\n",
      " {'bucket': '2025-04-07T21:21:00Z', 'event_count': 3, 'page': '/pages'},\n",
      " {'bucket': '2025-04-07T21:21:00Z', 'event_count': 2, 'page': '/pricing'},\n",
      " {'bucket': '2025-04-07T21:22:00Z', 'event_count': 1015, 'page': '/about'},\n",
      " {'bucket': '2025-04-07T21:22:00Z', 'event_count': 1045, 'page': '/contact'},\n",
      " {'bucket': '2025-04-07T21:22:00Z', 'event_count': 1033, 'page': '/pages'},\n",
      " {'bucket': '2025-04-07T21:22:00Z', 'event_count': 1001, 'page': '/pricing'},\n",
      " {'bucket': '2025-04-07T21:23:00Z', 'event_count': 959, 'page': '/about'},\n",
      " {'bucket': '2025-04-07T21:23:00Z', 'event_count': 985, 'page': '/contact'},\n",
      " {'bucket': '2025-04-07T21:23:00Z', 'event_count': 967, 'page': '/pages'},\n",
      " {'bucket': '2025-04-07T21:23:00Z', 'event_count': 983, 'page': '/pricing'}]\n"
     ]
    }
   ],
   "source": [
    "from pprint import pprint\n",
    "response = requests.get(endpoint, params={'duration': '1 minute', 'pages': ['/contact', '/about']})\n",
    "print(response.ok)\n",
    "if (response.ok):\n",
    "    data = response.json()\n",
    "    pprint(data)"
   ]
  }
 ],
 "metadata": {
  "kernelspec": {
   "display_name": ".venv",
   "language": "python",
   "name": "python3"
  },
  "language_info": {
   "codemirror_mode": {
    "name": "ipython",
    "version": 3
   },
   "file_extension": ".py",
   "mimetype": "text/x-python",
   "name": "python",
   "nbconvert_exporter": "python",
   "pygments_lexer": "ipython3",
   "version": "3.12.0"
  }
 },
 "nbformat": 4,
 "nbformat_minor": 2
}
